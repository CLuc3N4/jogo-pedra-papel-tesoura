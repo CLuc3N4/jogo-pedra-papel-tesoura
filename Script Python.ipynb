{
 "cells": [
  {
   "cell_type": "code",
   "execution_count": null,
   "id": "66756007-65ad-4c48-9dff-4985ca158c60",
   "metadata": {},
   "outputs": [],
   "source": [
    "Script Python"
   ]
  },
  {
   "cell_type": "code",
   "execution_count": 1,
   "id": "e03fbb1b-e0ec-4f2d-be1c-418c6b1463f5",
   "metadata": {},
   "outputs": [
    {
     "name": "stdout",
     "output_type": "stream",
     "text": [
      "------------------------------------------------------\n",
      "--- Jogo Pedra, Papel e Tesoura (2 Jogadores) ---\n",
      "------------------------------------------------------\n",
      "Bem-vindos! Cada jogador deve escolher uma das opções.\n",
      "Opções válidas: ('pedra', 'papel', 'tesoura')\n",
      "-------------------------\n"
     ]
    },
    {
     "name": "stdin",
     "output_type": "stream",
     "text": [
      "Jogador 1, digite sua jogada:  pedra\n",
      "Jogador 2, digite sua jogada:  papel\n"
     ]
    },
    {
     "name": "stdout",
     "output_type": "stream",
     "text": [
      "-------------------------\n",
      "Jogador 1 escolheu: pedra\n",
      "Jogador 2 escolheu: papel\n",
      "-------------------------\n",
      "Resultado: Jogador 2 venceu! Parabéns!\n",
      "\n",
      "--- Fim de Jogo ---\n"
     ]
    }
   ],
   "source": [
    "# Estudo de Caso 2 - Lógica de Programação - Fundamentos de Linguagem Python Para Construção de Game\n",
    "\n",
    "# --- 1. Apresentação e Regras ---\n",
    "\n",
    "# Usamos a função print() para exibir mensagens na tela (Saída Padrão).\n",
    "print(\"------------------------------------------------------\")\n",
    "print(\"--- Jogo Pedra, Papel e Tesoura (2 Jogadores) ---\")\n",
    "print(\"------------------------------------------------------\")\n",
    "print(\"Bem-vindos! Cada jogador deve escolher uma das opções.\")\n",
    "\n",
    "# Usamos uma tupla para armazenar as opções válidas.\n",
    "# Tuplas são boas aqui porque as opções do jogo não mudam (são imutáveis).\n",
    "opcoes_validas = (\"pedra\", \"papel\", \"tesoura\")\n",
    "print(f\"Opções válidas: {opcoes_validas}\")\n",
    "print(\"-\" * 25) # Imprime uma linha para separar\n",
    "\n",
    "# --- 2. Coleta dos Dados de Entrada ---\n",
    "\n",
    "# Usamos a função input() para receber o que o usuário digita (Entrada Padrão).\n",
    "# A função input() sempre retorna uma string.\n",
    "jogada_jogador1_inicial = input(\"Jogador 1, digite sua jogada: \")\n",
    "jogada_jogador2_inicial = input(\"Jogador 2, digite sua jogada: \")\n",
    "\n",
    "# --- 3. Tratamento dos Dados de Entrada ---\n",
    "\n",
    "# Manipulação de Strings: usamos .lower() para converter para minúsculas\n",
    "# e .strip() para remover espaços extras. Isso evita erros como \"Pedra\" != \"pedra\".\n",
    "jogada_jogador1 = jogada_jogador1_inicial.lower().strip()\n",
    "jogada_jogador2 = jogada_jogador2_inicial.lower().strip()\n",
    "\n",
    "print(\"-\" * 25)\n",
    "print(f\"Jogador 1 escolheu: {jogada_jogador1}\")\n",
    "print(f\"Jogador 2 escolheu: {jogada_jogador2}\")\n",
    "print(\"-\" * 25)\n",
    "\n",
    "# --- 4. Lógica do Jogo e Resultado ---\n",
    "\n",
    "# Primeiro, verificamos se as jogadas são válidas.\n",
    "# Há várias opções para checar se a jogada está dentro da nossa tupla de opções.\n",
    "\n",
    "if jogada_jogador1 not in opcoes_validas or jogada_jogador2 not in opcoes_validas:\n",
    "#if opcoes_validas.count(jogada_jogador1) == 0 or opcoes_validas.count(jogada_jogador2) == 0:\n",
    "#if {jogada_jogador1, jogada_jogador2} - set(opcoes_validas):\n",
    "#if not all(jogada in opcoes_validas for jogada in [jogada_jogador1, jogada_jogador2]):\n",
    "#if len(list(filter(lambda x: x not in opcoes_validas, [jogada_jogador1, jogada_jogador2]))) > 0:\n",
    "    print(\"DSA: Uma ou ambas as jogadas são inválidas! Por favor, use apenas 'pedra', 'papel' ou 'tesoura'.\")\n",
    "\n",
    "# Agora, a lógica principal do jogo, usando operadores de comparação (==) e lógicos (and, or).\n",
    "\n",
    "# Caso 1: Empate\n",
    "elif jogada_jogador1 == jogada_jogador2:\n",
    "    print(\"Resultado: É um empate!\")\n",
    "\n",
    "# Caso 2: Jogador 1 vence\n",
    "# Agrupamos todas as condições de vitória do Jogador 1 com o operador 'or'.\n",
    "elif (jogada_jogador1 == \"pedra\" and jogada_jogador2 == \"tesoura\") or \\\n",
    "     (jogada_jogador1 == \"tesoura\" and jogada_jogador2 == \"papel\") or \\\n",
    "     (jogada_jogador1 == \"papel\" and jogada_jogador2 == \"pedra\"):\n",
    "    print(\"Resultado: Jogador 1 venceu! Parabéns!\")\n",
    "\n",
    "# Caso 3: Se não empatou e o Jogador 1 não venceu, então o Jogador 2 venceu.\n",
    "else:\n",
    "    print(\"Resultado: Jogador 2 venceu! Parabéns!\")\n",
    "\n",
    "print(\"\\n--- Fim de Jogo ---\")"
   ]
  }
 ],
 "metadata": {
  "kernelspec": {
   "display_name": "Python 3 (ipykernel)",
   "language": "python",
   "name": "python3"
  },
  "language_info": {
   "codemirror_mode": {
    "name": "ipython",
    "version": 3
   },
   "file_extension": ".py",
   "mimetype": "text/x-python",
   "name": "python",
   "nbconvert_exporter": "python",
   "pygments_lexer": "ipython3",
   "version": "3.13.5"
  }
 },
 "nbformat": 4,
 "nbformat_minor": 5
}
